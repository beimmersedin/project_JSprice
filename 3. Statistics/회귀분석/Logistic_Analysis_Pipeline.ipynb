{
 "cells": [
  {
   "cell_type": "code",
   "execution_count": 1,
   "metadata": {
    "scrolled": true
   },
   "outputs": [
    {
     "name": "stderr",
     "output_type": "stream",
     "text": [
      "\n",
      "Bad key text.latex.preview in file C:\\Users\\spa84\\anaconda3\\lib\\site-packages\\matplotlib\\mpl-data\\stylelib\\_classic_test.mplstyle, line 123 ('text.latex.preview : False')\n",
      "You probably need to get an updated matplotlibrc file from\n",
      "https://github.com/matplotlib/matplotlib/blob/v3.5.3/matplotlibrc.template\n",
      "or from the matplotlib source distribution\n",
      "\n",
      "Bad key mathtext.fallback_to_cm in file C:\\Users\\spa84\\anaconda3\\lib\\site-packages\\matplotlib\\mpl-data\\stylelib\\_classic_test.mplstyle, line 155 ('mathtext.fallback_to_cm : True  # When True, use symbols from the Computer Modern')\n",
      "You probably need to get an updated matplotlibrc file from\n",
      "https://github.com/matplotlib/matplotlib/blob/v3.5.3/matplotlibrc.template\n",
      "or from the matplotlib source distribution\n",
      "\n",
      "Bad key savefig.jpeg_quality in file C:\\Users\\spa84\\anaconda3\\lib\\site-packages\\matplotlib\\mpl-data\\stylelib\\_classic_test.mplstyle, line 418 ('savefig.jpeg_quality: 95       # when a jpeg is saved, the default quality parameter.')\n",
      "You probably need to get an updated matplotlibrc file from\n",
      "https://github.com/matplotlib/matplotlib/blob/v3.5.3/matplotlibrc.template\n",
      "or from the matplotlib source distribution\n",
      "\n",
      "Bad key keymap.all_axes in file C:\\Users\\spa84\\anaconda3\\lib\\site-packages\\matplotlib\\mpl-data\\stylelib\\_classic_test.mplstyle, line 466 ('keymap.all_axes : a                 # enable all axes')\n",
      "You probably need to get an updated matplotlibrc file from\n",
      "https://github.com/matplotlib/matplotlib/blob/v3.5.3/matplotlibrc.template\n",
      "or from the matplotlib source distribution\n",
      "\n",
      "Bad key animation.avconv_path in file C:\\Users\\spa84\\anaconda3\\lib\\site-packages\\matplotlib\\mpl-data\\stylelib\\_classic_test.mplstyle, line 477 ('animation.avconv_path: avconv     # Path to avconv binary. Without full path')\n",
      "You probably need to get an updated matplotlibrc file from\n",
      "https://github.com/matplotlib/matplotlib/blob/v3.5.3/matplotlibrc.template\n",
      "or from the matplotlib source distribution\n",
      "\n",
      "Bad key animation.avconv_args in file C:\\Users\\spa84\\anaconda3\\lib\\site-packages\\matplotlib\\mpl-data\\stylelib\\_classic_test.mplstyle, line 479 ('animation.avconv_args:            # Additional arguments to pass to avconv')\n",
      "You probably need to get an updated matplotlibrc file from\n",
      "https://github.com/matplotlib/matplotlib/blob/v3.5.3/matplotlibrc.template\n",
      "or from the matplotlib source distribution\n"
     ]
    }
   ],
   "source": [
    "import matplotlib.pyplot as plt\n",
    "from sklearn.model_selection import learning_curve\n",
    "import pandas as pd\n",
    "import numpy as np\n",
    "from sklearn.model_selection import train_test_split, cross_val_score, KFold\n",
    "from sklearn.preprocessing import StandardScaler\n",
    "from sklearn.linear_model import LogisticRegression\n",
    "from imblearn.pipeline import Pipeline\n",
    "from imblearn.over_sampling import RandomOverSampler\n",
    "from category_encoders import TargetEncoder\n",
    "from sklearn.metrics import accuracy_score\n",
    "from statsmodels.stats.outliers_influence import variance_inflation_factor\n",
    "import statsmodels.api as sm\n",
    "import warnings"
   ]
  },
  {
   "cell_type": "code",
   "execution_count": 2,
   "metadata": {},
   "outputs": [],
   "source": [
    "warnings.simplefilter('ignore')"
   ]
  },
  {
   "cell_type": "code",
   "execution_count": 3,
   "metadata": {},
   "outputs": [],
   "source": [
    "# 데이터 불러오기\n",
    "df = pd.read_csv('./data/Before_Encoding_5000.csv', encoding='euc-kr')"
   ]
  },
  {
   "cell_type": "markdown",
   "metadata": {},
   "source": [
    "## 파이프라인\n",
    "- 데이터 전처리를 파이프 라인으로 진행"
   ]
  },
  {
   "cell_type": "code",
   "execution_count": 5,
   "metadata": {},
   "outputs": [
    {
     "ename": "KeyError",
     "evalue": "'JS_Price'",
     "output_type": "error",
     "traceback": [
      "\u001b[1;31m---------------------------------------------------------------------------\u001b[0m",
      "\u001b[1;31mKeyError\u001b[0m                                  Traceback (most recent call last)",
      "\u001b[1;32m~\\anaconda3\\lib\\site-packages\\pandas\\core\\indexes\\base.py\u001b[0m in \u001b[0;36mget_loc\u001b[1;34m(self, key, method, tolerance)\u001b[0m\n\u001b[0;32m   3360\u001b[0m             \u001b[1;32mtry\u001b[0m\u001b[1;33m:\u001b[0m\u001b[1;33m\u001b[0m\u001b[1;33m\u001b[0m\u001b[0m\n\u001b[1;32m-> 3361\u001b[1;33m                 \u001b[1;32mreturn\u001b[0m \u001b[0mself\u001b[0m\u001b[1;33m.\u001b[0m\u001b[0m_engine\u001b[0m\u001b[1;33m.\u001b[0m\u001b[0mget_loc\u001b[0m\u001b[1;33m(\u001b[0m\u001b[0mcasted_key\u001b[0m\u001b[1;33m)\u001b[0m\u001b[1;33m\u001b[0m\u001b[1;33m\u001b[0m\u001b[0m\n\u001b[0m\u001b[0;32m   3362\u001b[0m             \u001b[1;32mexcept\u001b[0m \u001b[0mKeyError\u001b[0m \u001b[1;32mas\u001b[0m \u001b[0merr\u001b[0m\u001b[1;33m:\u001b[0m\u001b[1;33m\u001b[0m\u001b[1;33m\u001b[0m\u001b[0m\n",
      "\u001b[1;32m~\\anaconda3\\lib\\site-packages\\pandas\\_libs\\index.pyx\u001b[0m in \u001b[0;36mpandas._libs.index.IndexEngine.get_loc\u001b[1;34m()\u001b[0m\n",
      "\u001b[1;32m~\\anaconda3\\lib\\site-packages\\pandas\\_libs\\index.pyx\u001b[0m in \u001b[0;36mpandas._libs.index.IndexEngine.get_loc\u001b[1;34m()\u001b[0m\n",
      "\u001b[1;32mpandas\\_libs\\hashtable_class_helper.pxi\u001b[0m in \u001b[0;36mpandas._libs.hashtable.PyObjectHashTable.get_item\u001b[1;34m()\u001b[0m\n",
      "\u001b[1;32mpandas\\_libs\\hashtable_class_helper.pxi\u001b[0m in \u001b[0;36mpandas._libs.hashtable.PyObjectHashTable.get_item\u001b[1;34m()\u001b[0m\n",
      "\u001b[1;31mKeyError\u001b[0m: 'JS_Price'",
      "\nThe above exception was the direct cause of the following exception:\n",
      "\u001b[1;31mKeyError\u001b[0m                                  Traceback (most recent call last)",
      "\u001b[1;32m<ipython-input-5-afb026224686>\u001b[0m in \u001b[0;36m<module>\u001b[1;34m\u001b[0m\n\u001b[0;32m      4\u001b[0m \u001b[1;33m\u001b[0m\u001b[0m\n\u001b[0;32m      5\u001b[0m \u001b[1;31m# JS_Price를 4개의 범주로 나누고 기존 변수 삭제\u001b[0m\u001b[1;33m\u001b[0m\u001b[1;33m\u001b[0m\u001b[1;33m\u001b[0m\u001b[0m\n\u001b[1;32m----> 6\u001b[1;33m \u001b[0mdf\u001b[0m\u001b[1;33m[\u001b[0m\u001b[1;34m'JS_Price_Category'\u001b[0m\u001b[1;33m]\u001b[0m \u001b[1;33m=\u001b[0m \u001b[0mpd\u001b[0m\u001b[1;33m.\u001b[0m\u001b[0mcut\u001b[0m\u001b[1;33m(\u001b[0m\u001b[0mdf\u001b[0m\u001b[1;33m[\u001b[0m\u001b[1;34m'JS_Price'\u001b[0m\u001b[1;33m]\u001b[0m\u001b[1;33m,\u001b[0m \u001b[0mbins\u001b[0m\u001b[1;33m=\u001b[0m\u001b[1;36m5\u001b[0m\u001b[1;33m,\u001b[0m \u001b[0mlabels\u001b[0m\u001b[1;33m=\u001b[0m\u001b[1;32mFalse\u001b[0m\u001b[1;33m)\u001b[0m\u001b[1;33m\u001b[0m\u001b[1;33m\u001b[0m\u001b[0m\n\u001b[0m\u001b[0;32m      7\u001b[0m \u001b[0mdf\u001b[0m\u001b[1;33m.\u001b[0m\u001b[0mdrop\u001b[0m\u001b[1;33m(\u001b[0m\u001b[1;34m'JS_Price'\u001b[0m\u001b[1;33m,\u001b[0m \u001b[0maxis\u001b[0m\u001b[1;33m=\u001b[0m\u001b[1;36m1\u001b[0m\u001b[1;33m,\u001b[0m \u001b[0minplace\u001b[0m\u001b[1;33m=\u001b[0m\u001b[1;32mTrue\u001b[0m\u001b[1;33m)\u001b[0m\u001b[1;33m\u001b[0m\u001b[1;33m\u001b[0m\u001b[0m\n\u001b[0;32m      8\u001b[0m \u001b[1;33m\u001b[0m\u001b[0m\n",
      "\u001b[1;32m~\\anaconda3\\lib\\site-packages\\pandas\\core\\frame.py\u001b[0m in \u001b[0;36m__getitem__\u001b[1;34m(self, key)\u001b[0m\n\u001b[0;32m   3453\u001b[0m             \u001b[1;32mif\u001b[0m \u001b[0mself\u001b[0m\u001b[1;33m.\u001b[0m\u001b[0mcolumns\u001b[0m\u001b[1;33m.\u001b[0m\u001b[0mnlevels\u001b[0m \u001b[1;33m>\u001b[0m \u001b[1;36m1\u001b[0m\u001b[1;33m:\u001b[0m\u001b[1;33m\u001b[0m\u001b[1;33m\u001b[0m\u001b[0m\n\u001b[0;32m   3454\u001b[0m                 \u001b[1;32mreturn\u001b[0m \u001b[0mself\u001b[0m\u001b[1;33m.\u001b[0m\u001b[0m_getitem_multilevel\u001b[0m\u001b[1;33m(\u001b[0m\u001b[0mkey\u001b[0m\u001b[1;33m)\u001b[0m\u001b[1;33m\u001b[0m\u001b[1;33m\u001b[0m\u001b[0m\n\u001b[1;32m-> 3455\u001b[1;33m             \u001b[0mindexer\u001b[0m \u001b[1;33m=\u001b[0m \u001b[0mself\u001b[0m\u001b[1;33m.\u001b[0m\u001b[0mcolumns\u001b[0m\u001b[1;33m.\u001b[0m\u001b[0mget_loc\u001b[0m\u001b[1;33m(\u001b[0m\u001b[0mkey\u001b[0m\u001b[1;33m)\u001b[0m\u001b[1;33m\u001b[0m\u001b[1;33m\u001b[0m\u001b[0m\n\u001b[0m\u001b[0;32m   3456\u001b[0m             \u001b[1;32mif\u001b[0m \u001b[0mis_integer\u001b[0m\u001b[1;33m(\u001b[0m\u001b[0mindexer\u001b[0m\u001b[1;33m)\u001b[0m\u001b[1;33m:\u001b[0m\u001b[1;33m\u001b[0m\u001b[1;33m\u001b[0m\u001b[0m\n\u001b[0;32m   3457\u001b[0m                 \u001b[0mindexer\u001b[0m \u001b[1;33m=\u001b[0m \u001b[1;33m[\u001b[0m\u001b[0mindexer\u001b[0m\u001b[1;33m]\u001b[0m\u001b[1;33m\u001b[0m\u001b[1;33m\u001b[0m\u001b[0m\n",
      "\u001b[1;32m~\\anaconda3\\lib\\site-packages\\pandas\\core\\indexes\\base.py\u001b[0m in \u001b[0;36mget_loc\u001b[1;34m(self, key, method, tolerance)\u001b[0m\n\u001b[0;32m   3361\u001b[0m                 \u001b[1;32mreturn\u001b[0m \u001b[0mself\u001b[0m\u001b[1;33m.\u001b[0m\u001b[0m_engine\u001b[0m\u001b[1;33m.\u001b[0m\u001b[0mget_loc\u001b[0m\u001b[1;33m(\u001b[0m\u001b[0mcasted_key\u001b[0m\u001b[1;33m)\u001b[0m\u001b[1;33m\u001b[0m\u001b[1;33m\u001b[0m\u001b[0m\n\u001b[0;32m   3362\u001b[0m             \u001b[1;32mexcept\u001b[0m \u001b[0mKeyError\u001b[0m \u001b[1;32mas\u001b[0m \u001b[0merr\u001b[0m\u001b[1;33m:\u001b[0m\u001b[1;33m\u001b[0m\u001b[1;33m\u001b[0m\u001b[0m\n\u001b[1;32m-> 3363\u001b[1;33m                 \u001b[1;32mraise\u001b[0m \u001b[0mKeyError\u001b[0m\u001b[1;33m(\u001b[0m\u001b[0mkey\u001b[0m\u001b[1;33m)\u001b[0m \u001b[1;32mfrom\u001b[0m \u001b[0merr\u001b[0m\u001b[1;33m\u001b[0m\u001b[1;33m\u001b[0m\u001b[0m\n\u001b[0m\u001b[0;32m   3364\u001b[0m \u001b[1;33m\u001b[0m\u001b[0m\n\u001b[0;32m   3365\u001b[0m         \u001b[1;32mif\u001b[0m \u001b[0mis_scalar\u001b[0m\u001b[1;33m(\u001b[0m\u001b[0mkey\u001b[0m\u001b[1;33m)\u001b[0m \u001b[1;32mand\u001b[0m \u001b[0misna\u001b[0m\u001b[1;33m(\u001b[0m\u001b[0mkey\u001b[0m\u001b[1;33m)\u001b[0m \u001b[1;32mand\u001b[0m \u001b[1;32mnot\u001b[0m \u001b[0mself\u001b[0m\u001b[1;33m.\u001b[0m\u001b[0mhasnans\u001b[0m\u001b[1;33m:\u001b[0m\u001b[1;33m\u001b[0m\u001b[1;33m\u001b[0m\u001b[0m\n",
      "\u001b[1;31mKeyError\u001b[0m: 'JS_Price'"
     ]
    }
   ],
   "source": [
    "# 범주형 변수 리스트 지정\n",
    "categorical_columns = ['Building_Use', 'Region_Name']\n",
    "target_column = 'JS_Price'\n",
    "\n",
    "# JS_Price를 4개의 범주로 나누고 기존 변수 삭제\n",
    "df['JS_Price_Category'] = pd.cut(df['JS_Price'], bins=5, labels=False)\n",
    "df.drop('JS_Price', axis=1, inplace=True)\n",
    "\n",
    "# 선택한 독립변수만 추출\n",
    "selected_features = [\n",
    "    'CA_index',\n",
    "    'Shortest_Distance_to_School',\n",
    "    'HSP_index',\n",
    "    'TC_index',\n",
    "    'IR',\n",
    "    'SDT_index',\n",
    "    'UR'\n",
    "]\n",
    "\n",
    "# 범주형 열 중에서 선택한 독립 변수에 포함된 열 확인\n",
    "categorical_columns_exist = list(set(categorical_columns).intersection(set(selected_features)))\n",
    "\n",
    "# 데이터 분할\n",
    "X = df[selected_features]\n",
    "y = df['JS_Price_Category']\n",
    "X_train, X_test, y_train, y_test = train_test_split(X, y, test_size=0.2, random_state=42)\n",
    "\n",
    "# 파이프라인 설정 (타겟 인코딩 포함 여부에 따라 다르게 설정)\n",
    "if categorical_columns_exist:\n",
    "    pipeline = [\n",
    "        ('target_encoder', TargetEncoder(cols=categorical_columns_exist)),  # 타겟 인코딩\n",
    "        ('scaler', StandardScaler()),  # 수치형 변수 스케일링\n",
    "        ('oversampler', RandomOverSampler(sampling_strategy='auto', random_state=42)),  # 오버샘플링\n",
    "        ('classifier', LogisticRegression(multi_class='multinomial', solver='lbfgs'))  # 로지스틱 회귀 모델\n",
    "    ]\n",
    "else:\n",
    "    pipeline = [\n",
    "        ('scaler', StandardScaler()),  # 수치형 변수 스케일링\n",
    "        ('oversampler', RandomOverSampler(sampling_strategy='auto', random_state=42)),  # 오버샘플링\n",
    "        ('classifier', LogisticRegression(multi_class='multinomial', solver='lbfgs'))  # 로지스틱 회귀 모델\n",
    "    ]"
   ]
  },
  {
   "cell_type": "markdown",
   "metadata": {},
   "source": [
    "## Logistic Regression Analysis"
   ]
  },
  {
   "cell_type": "code",
   "execution_count": 5,
   "metadata": {
    "scrolled": false
   },
   "outputs": [
    {
     "name": "stdout",
     "output_type": "stream",
     "text": [
      "로지스틱 회귀 모델 정확도: 0.582\n"
     ]
    }
   ],
   "source": [
    "# 파이프라인 생성\n",
    "model = Pipeline(pipeline)\n",
    "\n",
    "# 모델 학습\n",
    "model.fit(X_train, y_train)\n",
    "\n",
    "# 테스트 데이터에 대한 예측\n",
    "y_pred = model.predict(X_test)\n",
    "\n",
    "# 모델 평가 (정확도 계산)\n",
    "accuracy = accuracy_score(y_test, y_pred)\n",
    "print(f\"로지스틱 회귀 모델 정확도: {accuracy}\")"
   ]
  },
  {
   "cell_type": "markdown",
   "metadata": {},
   "source": [
    "## 교차검증\n",
    "- data leakage 확인을 위해 교차검증 실행"
   ]
  },
  {
   "cell_type": "code",
   "execution_count": 6,
   "metadata": {},
   "outputs": [
    {
     "name": "stdout",
     "output_type": "stream",
     "text": [
      "교차 검증 정확도: [0.575 0.56  0.566 0.524 0.56 ]\n",
      "평균 정확도: 0.557\n"
     ]
    }
   ],
   "source": [
    "# 교차 검증 수행\n",
    "cv = KFold(n_splits=5, shuffle=True, random_state=42)\n",
    "cross_val_scores = cross_val_score(model, X, y, cv=cv)\n",
    "\n",
    "# 교차 검증 정확도 출력\n",
    "print(\"교차 검증 정확도:\", cross_val_scores)\n",
    "\n",
    "# 평균 정확도 계산\n",
    "mean_accuracy = np.mean(cross_val_scores)\n",
    "print(\"평균 정확도:\", mean_accuracy)"
   ]
  },
  {
   "cell_type": "markdown",
   "metadata": {},
   "source": [
    "## Training and validaion accuracy\n",
    "- 학습곡선으로 데이터 크기 증가에 따른 훈련데이터와 검증 데이터의 정확도를 그림으로써 모델의 과적합을 시각적으로 확인"
   ]
  },
  {
   "cell_type": "code",
   "execution_count": 11,
   "metadata": {
    "scrolled": true
   },
   "outputs": [
    {
     "data": {
      "image/png": "[encoded data removed]",
      "text/plain": [
       "<Figure size 432x288 with 1 Axes>"
      ]
     },
     "metadata": {
      "needs_background": "light"
     },
     "output_type": "display_data"
    }
   ],
   "source": [
    "# 학습 곡선 그리기 함수\n",
    "def plot_learning_curve(estimator, title, X, y, ylim=None, cv=None,\n",
    "                        n_jobs=None, train_sizes=np.linspace(.1, 1.0, 5)):\n",
    "    plt.figure()\n",
    "    plt.title(title)\n",
    "    if ylim is not None:\n",
    "        plt.ylim(*ylim)\n",
    "    plt.xlabel(\"Training examples\")\n",
    "    plt.ylabel(\"Score\")\n",
    "    train_sizes, train_scores, test_scores = learning_curve(\n",
    "        estimator, X, y, cv=cv, n_jobs=n_jobs, train_sizes=train_sizes)\n",
    "    train_scores_mean = np.mean(train_scores, axis=1)\n",
    "    train_scores_std = np.std(train_scores, axis=1)\n",
    "    test_scores_mean = np.mean(test_scores, axis=1)\n",
    "    test_scores_std = np.std(test_scores, axis=1)\n",
    "    plt.grid()\n",
    "\n",
    "    plt.fill_between(train_sizes, train_scores_mean - train_scores_std,\n",
    "                     train_scores_mean + train_scores_std, alpha=0.1,\n",
    "                     color=\"r\")\n",
    "    plt.fill_between(train_sizes, test_scores_mean - test_scores_std,\n",
    "                     test_scores_mean + test_scores_std, alpha=0.1, color=\"g\")\n",
    "    plt.plot(train_sizes, train_scores_mean, 'o-', color=\"r\",\n",
    "             label=\"Training score\")\n",
    "    plt.plot(train_sizes, test_scores_mean, 'o-', color=\"g\",\n",
    "             label=\"Cross-validation score\")\n",
    "\n",
    "    plt.legend(loc=\"best\")\n",
    "    return plt\n",
    "\n",
    "# 학습 곡선 그리기\n",
    "title = \"Learning Curves (Logistic Regression)\"\n",
    "plot_learning_curve(model, title, X, y, cv=5, n_jobs=1)\n",
    "plt.show()"
   ]
  },
  {
   "cell_type": "markdown",
   "metadata": {},
   "source": [
    "## 변수선택법\n",
    "- 모델의 복잡성이 줄어든 상태에서 통계적 유의성을 고려하여 변수선택을 위해 다중공선성과 p-value 체크"
   ]
  },
  {
   "cell_type": "markdown",
   "metadata": {},
   "source": [
    "### 오즈비와 회귀계수"
   ]
  },
  {
   "cell_type": "code",
   "execution_count": 13,
   "metadata": {},
   "outputs": [
    {
     "name": "stdout",
     "output_type": "stream",
     "text": [
      "Optimization terminated successfully.\n",
      "         Current function value: 0.333024\n",
      "         Iterations 13\n",
      "다중 클래스 로지스틱 회귀 모델의 오즈비:\n",
      "                                    0         1             2             3\n",
      "const                        0.000041  0.000003  4.319716e-18  4.066390e-12\n",
      "CA_index                     1.011196  1.127707  1.584676e+00  1.726226e+00\n",
      "Shortest_Distance_to_School  0.997381  0.997447  9.962614e-01  9.965672e-01\n",
      "HSP_index                    0.991517  1.012836  9.666221e-01  1.029951e+00\n",
      "TC_index                     1.094368  0.968014  9.376447e-01  6.760512e-01\n",
      "IR                           0.743377  0.820940  6.034070e-01  5.658244e-01\n",
      "SDT_index                    1.003013  0.997549  1.008783e+00  1.015262e+00\n",
      "UR                           1.000685  0.749151  9.314784e-01  7.237221e-01\n",
      "다중 클래스 로지스틱 회귀 모델의 회귀 계수:\n",
      "                                     0          1          2          3\n",
      "const                       -10.099890 -12.599744 -39.983342 -26.228265\n",
      "CA_index                      0.011134   0.120187   0.460380   0.545938\n",
      "Shortest_Distance_to_School  -0.002623  -0.002556  -0.003746  -0.003439\n",
      "HSP_index                    -0.008519   0.012754  -0.033948   0.029511\n",
      "TC_index                      0.090177  -0.032508  -0.064384  -0.391486\n",
      "IR                           -0.296552  -0.197305  -0.505163  -0.569471\n",
      "SDT_index                     0.003008  -0.002454   0.008745   0.015147\n",
      "UR                            0.000685  -0.288815  -0.070982  -0.323348\n"
     ]
    }
   ],
   "source": [
    "import statsmodels.api as sm\n",
    "\n",
    "# 다중 로지스틱 회귀 모델 피팅\n",
    "X_train_sm = sm.add_constant(X_train)\n",
    "logit_model = sm.MNLogit(y_train, X_train_sm)  # 다중 클래스 로지스틱 회귀\n",
    "result = logit_model.fit()\n",
    "\n",
    "# 다중 클래스 로지스틱 회귀 모델의 오즈비와 회귀 계수\n",
    "print(\"다중 클래스 로지스틱 회귀 모델의 오즈비:\")\n",
    "print(np.exp(result.params))\n",
    "\n",
    "# 회귀 계수 출력\n",
    "print(\"다중 클래스 로지스틱 회귀 모델의 회귀 계수:\")\n",
    "print(result.params)"
   ]
  },
  {
   "cell_type": "markdown",
   "metadata": {},
   "source": [
    "### 다중공선성"
   ]
  },
  {
   "cell_type": "code",
   "execution_count": 9,
   "metadata": {
    "scrolled": true
   },
   "outputs": [
    {
     "name": "stdout",
     "output_type": "stream",
     "text": [
      "다중공선성 확인:\n",
      "                      Variable          VIF\n",
      "0                     CA_index  6144.502810\n",
      "1  Shortest_Distance_to_School     4.832024\n",
      "2                    HSP_index    66.104614\n",
      "3                     TC_index  6577.354533\n",
      "4                           IR     7.291031\n",
      "5                    SDT_index    44.973492\n",
      "6                           UR    42.767094\n"
     ]
    }
   ],
   "source": [
    "# 변수들의 VIF 계산\n",
    "def calculate_vif(data):\n",
    "    vif_data = pd.DataFrame()\n",
    "    vif_data[\"Variable\"] = data.columns\n",
    "    vif_data[\"VIF\"] = [variance_inflation_factor(data.values, i) for i in range(data.shape[1])]\n",
    "    return vif_data\n",
    "\n",
    "# 학습에 사용한 독립 변수에 대한 VIF 계산\n",
    "vif_data = calculate_vif(X_train)\n",
    "\n",
    "# VIF 출력\n",
    "print(\"다중공선성 확인:\")\n",
    "print(vif_data)"
   ]
  },
  {
   "cell_type": "markdown",
   "metadata": {},
   "source": [
    "- VIF값 5를 기준으로 높으면 변수에서 제거할 요인으로 본다면 Shortest_Distance_to_School을 제외하고 모두 제거변수"
   ]
  },
  {
   "cell_type": "markdown",
   "metadata": {},
   "source": [
    "### p-value"
   ]
  },
  {
   "cell_type": "code",
   "execution_count": 10,
   "metadata": {},
   "outputs": [
    {
     "name": "stdout",
     "output_type": "stream",
     "text": [
      "Optimization terminated successfully.\n",
      "         Current function value: 0.333024\n",
      "         Iterations 13\n",
      "                          MNLogit Regression Results                          \n",
      "==============================================================================\n",
      "Dep. Variable:      JS_Price_Category   No. Observations:                 4000\n",
      "Model:                        MNLogit   Df Residuals:                     3968\n",
      "Method:                           MLE   Df Model:                           28\n",
      "Date:                Fri, 22 Sep 2023   Pseudo R-squ.:                 0.08873\n",
      "Time:                        09:33:47   Log-Likelihood:                -1332.1\n",
      "converged:                       True   LL-Null:                       -1461.8\n",
      "Covariance Type:            nonrobust   LLR p-value:                 2.451e-39\n",
      "===============================================================================================\n",
      "        JS_Price_Category=1       coef    std err          z      P>|z|      [0.025      0.975]\n",
      "-----------------------------------------------------------------------------------------------\n",
      "const                         -10.0999      2.520     -4.008      0.000     -15.039      -5.161\n",
      "CA_index                        0.0111      0.055      0.202      0.840      -0.097       0.119\n",
      "Shortest_Distance_to_School    -0.0026      0.000     -5.383      0.000      -0.004      -0.002\n",
      "HSP_index                      -0.0085      0.005     -1.807      0.071      -0.018       0.001\n",
      "TC_index                        0.0902      0.049      1.836      0.066      -0.006       0.186\n",
      "IR                             -0.2966      0.117     -2.531      0.011      -0.526      -0.067\n",
      "SDT_index                       0.0030      0.006      0.471      0.638      -0.010       0.016\n",
      "UR                              0.0007      0.107      0.006      0.995      -0.209       0.211\n",
      "-----------------------------------------------------------------------------------------------\n",
      "        JS_Price_Category=2       coef    std err          z      P>|z|      [0.025      0.975]\n",
      "-----------------------------------------------------------------------------------------------\n",
      "const                         -12.5997      8.100     -1.556      0.120     -28.475       3.276\n",
      "CA_index                        0.1202      0.182      0.659      0.510      -0.237       0.477\n",
      "Shortest_Distance_to_School    -0.0026      0.001     -1.832      0.067      -0.005       0.000\n",
      "HSP_index                       0.0128      0.014      0.905      0.365      -0.015       0.040\n",
      "TC_index                       -0.0325      0.155     -0.210      0.834      -0.336       0.271\n",
      "IR                             -0.1973      0.339     -0.582      0.561      -0.862       0.467\n",
      "SDT_index                      -0.0025      0.019     -0.131      0.896      -0.039       0.034\n",
      "UR                             -0.2888      0.323     -0.893      0.372      -0.922       0.345\n",
      "-----------------------------------------------------------------------------------------------\n",
      "        JS_Price_Category=3       coef    std err          z      P>|z|      [0.025      0.975]\n",
      "-----------------------------------------------------------------------------------------------\n",
      "const                         -39.9833     25.636     -1.560      0.119     -90.230      10.263\n",
      "CA_index                        0.4604      0.443      1.040      0.298      -0.407       1.328\n",
      "Shortest_Distance_to_School    -0.0037      0.003     -1.246      0.213      -0.010       0.002\n",
      "HSP_index                      -0.0339      0.042     -0.813      0.416      -0.116       0.048\n",
      "TC_index                       -0.0644      0.336     -0.192      0.848      -0.722       0.593\n",
      "IR                             -0.5052      1.060     -0.477      0.634      -2.582       1.572\n",
      "SDT_index                       0.0087      0.040      0.218      0.827      -0.070       0.087\n",
      "UR                             -0.0710      0.706     -0.101      0.920      -1.454       1.312\n",
      "-----------------------------------------------------------------------------------------------\n",
      "        JS_Price_Category=4       coef    std err          z      P>|z|      [0.025      0.975]\n",
      "-----------------------------------------------------------------------------------------------\n",
      "const                         -26.2283     58.020     -0.452      0.651    -139.945      87.489\n",
      "CA_index                        0.5459      1.129      0.483      0.629      -1.667       2.759\n",
      "Shortest_Distance_to_School    -0.0034      0.006     -0.542      0.588      -0.016       0.009\n",
      "HSP_index                       0.0295      0.095      0.312      0.755      -0.156       0.215\n",
      "TC_index                       -0.3915      0.955     -0.410      0.682      -2.264       1.481\n",
      "IR                             -0.5695      2.127     -0.268      0.789      -4.738       3.599\n",
      "SDT_index                       0.0151      0.092      0.165      0.869      -0.164       0.195\n",
      "UR                             -0.3233      1.287     -0.251      0.802      -2.845       2.199\n",
      "===============================================================================================\n",
      "모델 정확도 : 0.582 \n",
      "\n"
     ]
    }
   ],
   "source": [
    "# X_train에 상수 항 (intercept) 추가\n",
    "X_train_sm = sm.add_constant(X_train)\n",
    "\n",
    "# 로지스틱 회귀 모델의 p-value 계산 (다중 클래스 로지스틱 회귀)\n",
    "logit_model = sm.MNLogit(y_train, X_train_sm)  # 다중 클래스 로지스틱 회귀\n",
    "result = logit_model.fit()### p-value\n",
    "print(result.summary()\n",
    "     )\n",
    "# 테스트 데이터에 대한 예측\n",
    "y_pred = model.predict(X_test)\n",
    "\n",
    "# 모델 평가 (정확도 계산)\n",
    "accuracy = accuracy_score(y_test, y_pred)\n",
    "print(f\"모델 정확도 : {accuracy}\", '\\n')"
   ]
  },
  {
   "cell_type": "markdown",
   "metadata": {},
   "source": [
    "- a=0.05일 때, p-value값을 고려하면 모든 변수를 제외한다."
   ]
  },
  {
   "cell_type": "markdown",
   "metadata": {},
   "source": [
    "## 최종결론\n",
    "- Features_Ranking의 17가지 변수 중 상위 10가지를 제외한 7가지 변수에 대해 VIF와 Logistic Regression Analysis를 진행한다.\n",
    "    - VIF와 Logistit Regression의 p-value값의 공통 제거요인인 'CA_index', 'HSP_index', 'TC_index', 'IR', 'SDT_index', 'UR'을 제거한다.\n",
    "    - 위의 여섯가지 요인('CA_index', 'HSP_index', 'TC_index', 'IR', 'SDT_index', 'UR')을 변수에서 제거하여 머신러닝을 진행한다."
   ]
  }
 ],
 "metadata": {
  "kernelspec": {
   "display_name": "Python 3",
   "language": "python",
   "name": "python3"
  },
  "language_info": {
   "codemirror_mode": {
    "name": "ipython",
    "version": 3
   },
   "file_extension": ".py",
   "mimetype": "text/x-python",
   "name": "python",
   "nbconvert_exporter": "python",
   "pygments_lexer": "ipython3",
   "version": "3.7.6"
  }
 },
 "nbformat": 4,
 "nbformat_minor": 4
}
